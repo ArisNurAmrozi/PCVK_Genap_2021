{
  "nbformat": 4,
  "nbformat_minor": 0,
  "metadata": {
    "colab": {
      "name": "Week6.ipynb",
      "provenance": [],
      "authorship_tag": "ABX9TyN4ANeROJnnvTmr77g7hD0z",
      "include_colab_link": true
    },
    "kernelspec": {
      "name": "python3",
      "display_name": "Python 3"
    }
  },
  "cells": [
    {
      "cell_type": "markdown",
      "metadata": {
        "id": "view-in-github",
        "colab_type": "text"
      },
      "source": [
        "<a href=\"https://colab.research.google.com/github/ArisNurAmrozi/PCVK_Genap_2021/blob/main/Week6.ipynb\" target=\"_parent\"><img src=\"https://colab.research.google.com/assets/colab-badge.svg\" alt=\"Open In Colab\"/></a>"
      ]
    },
    {
      "cell_type": "code",
      "metadata": {
        "id": "dZ_zP4NtPbC0"
      },
      "source": [
        "from google.colab import drive\r\n",
        "import cv2 as cv\r\n",
        "from google.colab.patches import cv2_imshow\r\n",
        "from skimage import io\r\n",
        "import matplotlib.pyplot as plt\r\n",
        "import numpy as np\r\n",
        "import math\r\n",
        "import os\r\n",
        "import glob\r\n",
        "\r\n",
        "# Accessing My Google Drive\r\n",
        "drive.mount('/content/drive')\r\n",
        "\r\n",
        "#input image\r\n",
        "img = cv.imread('/content/drive/MyDrive/pcvk/lena.jpg')\r\n",
        "color = ('b','g','r')\r\n",
        "for i,col in enumerate(color):\r\n",
        "    histr = cv.calcHist([img],[i],None,[256],[0,256])\r\n",
        "    plt.plot(histr,color = col)\r\n",
        "    plt.xlim([0,256])\r\n",
        "plt.show()"
      ],
      "execution_count": null,
      "outputs": []
    }
  ]
}